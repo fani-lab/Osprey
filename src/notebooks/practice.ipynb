{
 "cells": [
  {
   "cell_type": "markdown",
   "metadata": {},
   "source": [
    "# XML Parse Library"
   ]
  },
  {
   "cell_type": "markdown",
   "metadata": {},
   "source": [
    "## Libraries"
   ]
  },
  {
   "cell_type": "code",
   "execution_count": 1,
   "metadata": {},
   "outputs": [],
   "source": [
    "import os\n",
    "import sys\n",
    "import pandas as pd\n",
    "import xml.etree.ElementTree as ET"
   ]
  },
  {
   "cell_type": "markdown",
   "metadata": {},
   "source": [
    "## Path and Import Python files"
   ]
  },
  {
   "cell_type": "code",
   "execution_count": 2,
   "metadata": {},
   "outputs": [
    {
     "name": "stdout",
     "output_type": "stream",
     "text": [
      "Added to sys.path: /Users/arunesh/data-server/projects/Osprey/src\n"
     ]
    }
   ],
   "source": [
    "src_path = os.path.abspath(os.path.join(os.getcwd(), '..'))  # go up one level\n",
    "sys.path.append(src_path)\n",
    "print(\"Added to sys.path:\", src_path)"
   ]
  },
  {
   "cell_type": "code",
   "execution_count": 3,
   "metadata": {},
   "outputs": [],
   "source": [
    "from cmn.conversation import Conversation\n",
    "from cmn.message import Message"
   ]
  },
  {
   "cell_type": "markdown",
   "metadata": {},
   "source": [
    "## Define Variables "
   ]
  },
  {
   "cell_type": "code",
   "execution_count": 4,
   "metadata": {},
   "outputs": [],
   "source": [
    "dataset_directory = '../../data/toy.test'\n",
    "temp_file_1 = '../../data/toy.test/pan12-sexual-predator-identification-test-corpus-2012-05-17.xml'"
   ]
  },
  {
   "cell_type": "code",
   "execution_count": null,
   "metadata": {},
   "outputs": [],
   "source": [
    "root = ET.parse(temp_file_1).getroot()\n",
    "\n",
    "for child in root:\n",
    "    conv_id = child.attrib.get(\"id\")\n",
    "    print(conv_id)\n",
    "    for message in child:\n",
    "        message_text_body = message.findtext('text')\n",
    "        message_text_author = message.findtext('author')\n",
    "        message_text_time = message.findtext('time')\n",
    "        print(message_text_author, message_text_time, message_text_body)\n",
    "    break"
   ]
  },
  {
   "cell_type": "code",
   "execution_count": null,
   "metadata": {},
   "outputs": [],
   "source": [
    "root = ET.parse(temp_file_1).getroot()\n",
    "\n",
    "for conversation in root.findall(\"conversation\"):\n",
    "    conv = Conversation()\n",
    "    conv_id = conversation.attrib.get(\"id\")\n",
    "\n",
    "    if conv_id not in \n",
    "    for message_text in conversation.findall('message'):\n",
    "        message_text_body = message_text.findtext('text')\n",
    "        message_text_author = message_text.findtext('author')\n",
    "        message_text_time = message_text.findtext('time')\n",
    "\n",
    "    "
   ]
  },
  {
   "cell_type": "code",
   "execution_count": null,
   "metadata": {},
   "outputs": [],
   "source": [
    "for conversation in root.iter(\"message\"):\n",
    "    print(conversation.items())\n",
    "    print(conversation.)\n",
    "    break"
   ]
  },
  {
   "cell_type": "code",
   "execution_count": null,
   "metadata": {},
   "outputs": [],
   "source": [
    "my_conv = Conversation()"
   ]
  },
  {
   "cell_type": "code",
   "execution_count": null,
   "metadata": {},
   "outputs": [],
   "source": [
    "for child in root:\n",
    "    for sub_child in child.findall('message'):\n",
    "        author = sub_child.find('author').text\n",
    "        text = sub_child.find('text').text\n",
    "        print(author)\n",
    "        print(text)\n",
    "        print()\n",
    "        "
   ]
  },
  {
   "cell_type": "code",
   "execution_count": null,
   "metadata": {},
   "outputs": [],
   "source": [
    "for conversation in root.findall('conversation'):\n",
    "    conversation_id = conversation.get('id')\n",
    "    print(conversation_id)\n",
    "    for message in conversation.findall('message'):\n",
    "        line_number = message.get('line')\n",
    "        author = message.find('author').text\n",
    "        time = message.find('time').text\n",
    "        text = message.find('text').text\n",
    "        print(f\"Line: {line_number}\")\n",
    "        print(f\"Author: {author}\")\n",
    "        print(f\"Time: {time}\")\n",
    "        print(f\"Text: {text}\")\n",
    "        print(\"-\" * 20)\n",
    "\n",
    "        break\n",
    "    break"
   ]
  },
  {
   "cell_type": "code",
   "execution_count": null,
   "metadata": {},
   "outputs": [],
   "source": []
  },
  {
   "cell_type": "markdown",
   "metadata": {},
   "source": [
    "# Python\n"
   ]
  },
  {
   "cell_type": "code",
   "execution_count": null,
   "metadata": {},
   "outputs": [],
   "source": [
    "class Demo:\n",
    "    def __init__(self, name, id):\n",
    "        self.name  = name\n",
    "        self.id = id\n",
    "    \n",
    "    def get_instance_method(self):\n",
    "        return f\"{self.id}\\t{self.name}\""
   ]
  },
  {
   "cell_type": "code",
   "execution_count": null,
   "metadata": {},
   "outputs": [],
   "source": [
    "my_obj = Demo(name=\"my_obj\", id='1')"
   ]
  },
  {
   "cell_type": "code",
   "execution_count": null,
   "metadata": {},
   "outputs": [],
   "source": [
    "my_obj.get_instance_method()"
   ]
  },
  {
   "cell_type": "code",
   "execution_count": null,
   "metadata": {},
   "outputs": [],
   "source": [
    "class Demo:\n",
    "    def __init__(self, fname, lname):\n",
    "        self.fname = fname\n",
    "        self.lname = lname\n",
    "\n",
    "    @classmethod\n",
    "    def test_class_method(cls):\n",
    "        return \n",
    "    \n",
    "    def get_instance_method(self):\n",
    "        return f\"{self.id}\\t{self.name}\"\n",
    "\n",
    "demo_instance = Demo(name=\"my_obj\", id=\"1\")"
   ]
  },
  {
   "cell_type": "code",
   "execution_count": null,
   "metadata": {},
   "outputs": [],
   "source": [
    "test_Demo = Demo('test', 3)"
   ]
  },
  {
   "cell_type": "code",
   "execution_count": null,
   "metadata": {},
   "outputs": [],
   "source": [
    "Demo.test_class_method()"
   ]
  },
  {
   "cell_type": "code",
   "execution_count": null,
   "metadata": {},
   "outputs": [],
   "source": []
  },
  {
   "cell_type": "markdown",
   "metadata": {},
   "source": [
    "# Pandas"
   ]
  },
  {
   "cell_type": "code",
   "execution_count": null,
   "metadata": {},
   "outputs": [],
   "source": [
    "from io import StringIO\n",
    "import pandas as pd"
   ]
  },
  {
   "cell_type": "code",
   "execution_count": null,
   "metadata": {},
   "outputs": [],
   "source": [
    "file = \"data/toy.test/pan12-sexual-predator-identification-test-corpus-2012-05-17.xml\""
   ]
  },
  {
   "cell_type": "code",
   "execution_count": null,
   "metadata": {},
   "outputs": [],
   "source": [
    "read_xml_file = pd.read_xml(file, parser='lxml')"
   ]
  },
  {
   "cell_type": "code",
   "execution_count": null,
   "metadata": {},
   "outputs": [],
   "source": [
    "a = {1: 'a', 2: 'b'}\n",
    "print(list(a.values))"
   ]
  },
  {
   "cell_type": "code",
   "execution_count": null,
   "metadata": {},
   "outputs": [],
   "source": []
  },
  {
   "cell_type": "markdown",
   "metadata": {},
   "source": [
    "# Linked List Trandformation"
   ]
  },
  {
   "cell_type": "code",
   "execution_count": 5,
   "metadata": {},
   "outputs": [],
   "source": [
    "temp_file_1 = '../../data/toy.test/pan12-sexual-predator-identification-test-corpus-2012-05-17.xml'\n",
    "my_conv = Conversation.xml_loader(temp_file_1)"
   ]
  },
  {
   "cell_type": "code",
   "execution_count": null,
   "metadata": {},
   "outputs": [],
   "source": [
    "for key, conv in my_conv.items():\n",
    "    print(f\"\\nConversation ID: {conv.id}\")\n",
    "    print(f\"Total Messages: {len(conv.messages)}\")\n",
    "    \n",
    "    for i, msg in enumerate(conv.messages):\n",
    "        print(f\"  Message {i + 1}:\")\n",
    "        for attr, val in vars(msg).items():\n",
    "            print(f\"    {attr}: {val}\")\n",
    "\n",
    "    "
   ]
  },
  {
   "cell_type": "code",
   "execution_count": null,
   "metadata": {},
   "outputs": [],
   "source": [
    "for key, val in my_conv.items():\n",
    "    print(key)"
   ]
  },
  {
   "cell_type": "code",
   "execution_count": null,
   "metadata": {},
   "outputs": [],
   "source": [
    "for key, val in my_conv.items():\n",
    "    if key == '5fd32399bbb0b3398f6d3aa619f53e33':\n",
    "        for msg in val.messages:\n",
    "            print(dir(msg))\n",
    "            break"
   ]
  },
  {
   "cell_type": "code",
   "execution_count": 6,
   "metadata": {},
   "outputs": [
    {
     "name": "stdout",
     "output_type": "stream",
     "text": [
      "{'author_id': 'c92808e9cfb0834a62a670e613637377', 'time': '16:43', 'text': 'hi', 'conv': <cmn.conversation.Conversation object at 0x1170d96a0>}\n"
     ]
    }
   ],
   "source": [
    "for key, val in my_conv.items():\n",
    "    if key == '5fd32399bbb0b3398f6d3aa619f53e33':\n",
    "        for msg in val.messages:\n",
    "            print(vars(msg))\n",
    "            break"
   ]
  },
  {
   "cell_type": "code",
   "execution_count": null,
   "metadata": {},
   "outputs": [],
   "source": []
  }
 ],
 "metadata": {
  "kernelspec": {
   "display_name": ".venv",
   "language": "python",
   "name": "python3"
  },
  "language_info": {
   "codemirror_mode": {
    "name": "ipython",
    "version": 3
   },
   "file_extension": ".py",
   "mimetype": "text/x-python",
   "name": "python",
   "nbconvert_exporter": "python",
   "pygments_lexer": "ipython3",
   "version": "3.13.2"
  },
  "orig_nbformat": 4
 },
 "nbformat": 4,
 "nbformat_minor": 2
}
